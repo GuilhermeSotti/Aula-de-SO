{
  "nbformat": 4,
  "nbformat_minor": 0,
  "metadata": {
    "colab": {
      "name": "TensorFlow Code2",
      "provenance": [],
      "authorship_tag": "ABX9TyPNrKW0hyY0yYCGMyuDAjn5",
      "include_colab_link": true
    },
    "kernelspec": {
      "name": "python3",
      "display_name": "Python 3"
    },
    "language_info": {
      "name": "python"
    }
  },
  "cells": [
    {
      "cell_type": "markdown",
      "metadata": {
        "id": "view-in-github",
        "colab_type": "text"
      },
      "source": [
        "<a href=\"https://colab.research.google.com/github/GuilhermeSotti/Aula-de-SO/blob/master/TensorFlow_Code2.ipynb\" target=\"_parent\"><img src=\"https://colab.research.google.com/assets/colab-badge.svg\" alt=\"Open In Colab\"/></a>"
      ]
    },
    {
      "cell_type": "code",
      "metadata": {
        "id": "yyaHKC4j8LpM"
      },
      "source": [
        "import tensorflow as tf\n",
        "\n",
        "def main():\n",
        "\n",
        "  msg = tf.constant('Hello')\n",
        "  tf.print(msg)\n",
        "\n",
        "if __name__ == '__main__':\n",
        "  main()\n"
      ],
      "execution_count": null,
      "outputs": []
    },
    {
      "cell_type": "code",
      "metadata": {
        "id": "Os8pvLdf85WN"
      },
      "source": [
        "import keras as kr\n",
        "import numpy as np\n",
        "\n",
        "model = kr.Sequential([kr.layers.Dense(units = 1, input_shape = ([1]))])\n",
        "model.compile(\n",
        "    optimizer = 'sgd', \n",
        "    loss = 'mean_squared_error'\n",
        ")\n",
        "\n",
        "xs = np.array([-1.0, 0, 1.0, 2.0, 3.0, 4.0], dtype = float)\n",
        "ys = np.array([-3.0, -1, 1.0, 3.0, 5.0, 7.0], dtype = float)\n",
        "\n",
        "model.fit(\n",
        "    xs, \n",
        "    ys, \n",
        "    epochs=500\n",
        ")\n",
        "\n",
        "print(model.predict([10.0]))"
      ],
      "execution_count": null,
      "outputs": []
    },
    {
      "cell_type": "code",
      "metadata": {
        "id": "xQY-JAwHVcJg"
      },
      "source": [
        "from tensorflow.python.keras.models import Sequential\n",
        "from tensorflow.python.keras.layers import Dense\n",
        "from numpy import array\n",
        "from matplotlib import pyplot\n",
        "\n",
        "X = array([0.1, 0.2, 0.3, 0.4, 0.5, 0.6, 0.7, 0.8, 0.9, 1.0])\n",
        "mod = Sequential()\n",
        "mod.add(Dense(2, input_dim = 1))\n",
        "mod.add(Dense(1))\n",
        "mod.compile(loss = 'mse', optimizer = 'adam', metrics = ['mse', 'mae', 'mape', 'cosine_proximity'])\n",
        "\n",
        "history = mod.fit(X, X, epochs = 500, batch_size = len(X), verbose = 2)\n",
        "\n",
        "pyplot.plot(history.history['mse'], label = 'mean_squared_error')\n",
        "pyplot.plot(history.history['mae'], label = 'mean_absolute_error')\n",
        "pyplot.plot(history.history['mape'], label = 'mean_absolute_percentage_error')\n",
        "pyplot.plot(history.history['cosine_proximity'], label = 'cosine_proximity')\n",
        "pyplot.legend()\n",
        "pyplot.show()"
      ],
      "execution_count": null,
      "outputs": []
    },
    {
      "cell_type": "code",
      "metadata": {
        "id": "SDQZ-y54_AU2"
      },
      "source": [
        "from tensorflow.python.keras.models import Sequential\n",
        "from tensorflow.python.keras.layers import Dense\n",
        "from numpy import array\n",
        "from matplotlib import pyplot\n",
        "\n",
        "X = array([0.1, 0.2, 0.3, 0.4, 0.5, 0.6, 0.7, 0.8, 0.9, 1.0])\n",
        "Y = array([0, 0, 0, 0, 0, 1, 1, 1, 1, 1])\n",
        "\n",
        "mod = Sequential()\n",
        "mod.add(Dense(2, input_dim = 1))\n",
        "mod.add(Dense(1, activation = 'sigmoid'))\n",
        "mod.compile(loss = 'binary_crossentropy', optimizer = 'adam', metrics = ['acc'])\n",
        "\n",
        "history = mod.fit(X, Y, epochs = 500, batch_size = len(X), verbose = 2)\n",
        "\n",
        "pyplot.plot(history.history['acc'], label = 'Accuracy')\n",
        "pyplot.legend()\n",
        "pyplot.show()"
      ],
      "execution_count": null,
      "outputs": []
    },
    {
      "cell_type": "code",
      "metadata": {
        "id": "6-MtqodqUY0w"
      },
      "source": [
        "class CallBackEpochStop(tf.keras.callbacks.Callback):\n",
        "  def on_epoch_end(self, epoch, logs = {}):\n",
        "    if(logs.get('loss') < 0.4):\n",
        "      print(\"\\nLoss is low so cancelling training\")\n",
        "      self.model.stop_training = True"
      ],
      "execution_count": null,
      "outputs": []
    },
    {
      "cell_type": "code",
      "metadata": {
        "id": "qamaFDQ6NtNa"
      },
      "source": [
        "from tensorflow import keras as KRTF\n",
        "from tensorflow.python.keras.layers import Flatten as Flat\n",
        "\n",
        "callback = CallBackEpochStop()\n",
        "\n",
        "fashion_mnist = KRTF.datasets.fashion_mnist\n",
        "(train_images, train_labels), (test_images, test_labels) = fashion_mnist.load_data()\n",
        "\n",
        "train_images = train_images/255.0 # 0> | 1<\n",
        "test_images = test_images/255.0 # 0> | 1<\n",
        "\n",
        "model = Sequential([\n",
        "    Flat(input_shape = (28, 28)),\n",
        "    Dense(128, activation = tf.nn.relu),\n",
        "    Dense(10, activation = tf.nn.softmax)\n",
        "])\n",
        "\n",
        "model.compile(optimizer = 'adam', loss = 'sparse_categorical_crossentropy', metrics = ['accuracy'])\n",
        "model.summary()\n",
        "model.fit(train_images, train_labels, epochs = 5, callbacks = callback)\n",
        "test_loss = model.evaluate(test_images, test_labels)\n",
        "print(test_loss)\n"
      ],
      "execution_count": null,
      "outputs": []
    }
  ]
}